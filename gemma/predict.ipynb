{
  "cells": [
    {
      "cell_type": "markdown",
      "id": "138adf54",
      "metadata": {},
      "source": [
        "## Predict"
      ]
    },
    {
      "cell_type": "markdown",
      "id": "218f3ccd",
      "metadata": {},
      "source": [
        "Model Garden 에서 Gemma를 선택하고 deploy 버튼을 눌러 배포 "
      ]
    },
    {
      "cell_type": "code",
      "execution_count": null,
      "id": "H15ELU5tu5opKbRddVRmSZhf",
      "metadata": {
        "executionInfo": {
          "elapsed": 3,
          "status": "ok",
          "timestamp": 1717741116650,
          "user": {
            "displayName": "",
            "userId": ""
          },
          "user_tz": -540
        },
        "id": "H15ELU5tu5opKbRddVRmSZhf",
        "tags": []
      },
      "outputs": [],
      "source": [
        "from typing import Dict, List, Union\n",
        "\n",
        "from google.cloud import aiplatform\n",
        "from google.protobuf import json_format\n",
        "from google.protobuf.struct_pb2 import Value\n",
        "import json\n",
        "\n",
        "def predict_custom_trained_model_sample(\n",
        "    project: str,\n",
        "    endpoint_id: str,\n",
        "    instances: Union[Dict, List[Dict]],\n",
        "    location: str = \"us-central1\",\n",
        "    api_endpoint: str = \"us-central1-aiplatform.googleapis.com\",\n",
        ") -> str:\n",
        "    \"\"\"\n",
        "    `instances` can be either single instance of type dict or a list\n",
        "    of instances.\n",
        "    \"\"\"\n",
        "    # The AI Platform services require regional API endpoints.\n",
        "    client_options = {\"api_endpoint\": api_endpoint}\n",
        "    # Initialize client that will be used to create and send requests.\n",
        "    # This client only needs to be created once, and can be reused for multiple requests.\n",
        "    client = aiplatform.gapic.PredictionServiceClient(client_options=client_options)\n",
        "\n",
        "    # The format of each instance should conform to the deployed model's prediction input schema.\n",
        "    instances = instances if isinstance(instances, list) else [instances]\n",
        "    instances = [\n",
        "        json_format.ParseDict(instance_dict, Value()) for instance_dict in instances\n",
        "    ]\n",
        "    parameters_dict = {}\n",
        "    parameters = json_format.ParseDict(parameters_dict, Value())\n",
        "    endpoint = client.endpoint_path(\n",
        "        project=project, location=location, endpoint=endpoint_id\n",
        "    )\n",
        "    response = client.predict(\n",
        "        endpoint=endpoint, instances=instances, parameters=parameters\n",
        "    )\n",
        "\n",
        "    # The predictions are a google.protobuf.Value representation of the model's predictions.\n",
        "    prediction = response.predictions[0]\n",
        "    print(prediction)\n",
        "\n",
        "    return prediction"
      ]
    },
    {
      "cell_type": "code",
      "execution_count": 48,
      "id": "7NEFSDFCOsRY",
      "metadata": {
        "executionInfo": {
          "elapsed": 384,
          "status": "ok",
          "timestamp": 1717740411443,
          "user": {
            "displayName": "",
            "userId": ""
          },
          "user_tz": -540
        },
        "id": "7NEFSDFCOsRY"
      },
      "outputs": [],
      "source": [
        "prompt = \"자동차는 무엇인가요?\"  # @param {type: \"string\"}\n",
        "max_tokens = 100  # @param {type: \"integer\"}\n",
        "temperature = 1.0  # @param {type: \"number\"}\n",
        "top_p = 1.0  # @param {type: \"number\"}\n",
        "top_k = 10  # @param {type: \"integer\"}\n",
        "instances = [\n",
        "    {\n",
        "        \"prompt\": prompt,\n",
        "        \"max_tokens\": max_tokens,\n",
        "        \"temperature\": temperature,\n",
        "        \"top_p\": top_p,\n",
        "        \"top_k\": top_k,\n",
        "    },\n",
        "]"
      ]
    },
    {
      "cell_type": "code",
      "execution_count": 63,
      "id": "iQQRNVkyG6u8",
      "metadata": {
        "colab": {
          "base_uri": "https://localhost:8080/"
        },
        "executionInfo": {
          "elapsed": 4203,
          "status": "ok",
          "timestamp": 1717741123796,
          "user": {
            "displayName": "",
            "userId": ""
          },
          "user_tz": -540
        },
        "id": "iQQRNVkyG6u8",
        "outputId": "19364f67-050d-4037-e38a-1bb0214290a1"
      },
      "outputs": [
        {
          "name": "stdout",
          "output_type": "stream",
          "text": [
            "Prompt:\n",
            "자동차는 무엇인가요?\n",
            "Output:\n",
            "**자동차**는 엔진과 변속기, 그리고 타이어를 포함하여 자동적으로 운전할 수 있는 차량입니다. 엔진은 기름, 디젤, 전기 등을 연료로 사용하여\n"
          ]
        }
      ],
      "source": [
        "import time\n",
        "st = time.time()\n",
        "\n",
        "result = predict_custom_trained_model_sample(\n",
        "    project=\"579186738071\",\n",
        "    endpoint_id=\"4374195904874283008\",\n",
        "    location=\"asia-northeast3\",\n",
        "    instances=instances,\n",
        "    api_endpoint=\"asia-northeast3-aiplatform.googleapis.com\"\n",
        ")\n",
        "\n",
        "et = time.time()\n",
        "elapsed_time = et - st\n",
        "print('Execution time:', elapsed_time, 'seconds')"
      ]
    },
    {
      "cell_type": "code",
      "execution_count": 65,
      "id": "ZbNqzt1yWO7N",
      "metadata": {
        "colab": {
          "base_uri": "https://localhost:8080/"
        },
        "executionInfo": {
          "elapsed": 375,
          "status": "ok",
          "timestamp": 1717741221278,
          "user": {
            "displayName": "",
            "userId": ""
          },
          "user_tz": -540
        },
        "id": "ZbNqzt1yWO7N",
        "outputId": "47ffeb5a-7786-4b8c-f363-b2397be15b77"
      },
      "outputs": [
        {
          "name": "stdout",
          "output_type": "stream",
          "text": [
            "**자동차**는 엔진과 변속기, 그리고 타이어를 포함하여 자동적으로 운전할 수 있는 차량입니다. 엔진은 기름, 디젤, 전기 등을 연료로 사용하여\n"
          ]
        }
      ],
      "source": [
        "print(result.splitlines()[3])"
      ]
    }
  ],
  "metadata": {
    "colab": {
      "name": "kevinoh (Jun 7, 2024, 2:10:52 PM)",
      "provenance": []
    },
    "kernelspec": {
      "display_name": "Python 3",
      "language": "python",
      "name": "python3"
    },
    "language_info": {
      "codemirror_mode": {
        "name": "ipython",
        "version": 3
      },
      "file_extension": ".py",
      "mimetype": "text/x-python",
      "name": "python",
      "nbconvert_exporter": "python",
      "pygments_lexer": "ipython3",
      "version": "3.10.10"
    }
  },
  "nbformat": 4,
  "nbformat_minor": 5
}
